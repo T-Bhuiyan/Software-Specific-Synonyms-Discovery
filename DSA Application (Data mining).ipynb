{
 "cells": [
  {
   "cell_type": "markdown",
   "metadata": {},
   "source": [
    "# posts.xml 72 GB of Stackoverflow Posts\n",
    "    \n",
    "####    row: attributes\n",
    "  - Id\n",
    "  - Body\n",
    "  - Tags\n",
    "\n",
    "# Text Processing\n",
    "For each post \n",
    "  - Get ID \n",
    "  - Get Tags\n",
    "  - Get Code Snippets from each post Body \n",
    "  - save them based on the post id in a csv\n",
    "  \n",
    " # References \n",
    " [Reading Wikipedia XML Dumps with Python](https://www.heatonresearch.com/2017/03/03/python-basic-wikipedia-parsing.html)"
   ]
  },
  {
   "cell_type": "code",
   "execution_count": 3,
   "metadata": {},
   "outputs": [],
   "source": [
    "#Import libraries \n",
    "import xml.etree.ElementTree as ET\n",
    "import codecs\n",
    "import csv\n",
    "import time\n",
    "import os\n",
    "from bs4 import BeautifulSoup\n",
    "import re\n"
   ]
  },
  {
   "cell_type": "code",
   "execution_count": 4,
   "metadata": {},
   "outputs": [],
   "source": [
    "#Init Variables\n",
    "PATH_POSTS_XML = 'E:\\stackoverflow.com-Posts'\n",
    "FILENAME_POSTS = 'Posts.xml'\n",
    "FILENAME_CODE_TAGS = 'PostsCode_Tags.csv'\n",
    "ENCODING = \"utf-8\"\n",
    "pathPostsXML = os.path.join(PATH_POSTS_XML, FILENAME_POSTS)\n",
    "pathPosts_CODE_TAGS = os.path.join(PATH_POSTS_XML, FILENAME_CODE_TAGS)\n",
    "totalPostCount = 0\n",
    "CodeCount = 0\n",
    "TagsCount = 0\n"
   ]
  },
  {
   "cell_type": "code",
   "execution_count": 5,
   "metadata": {},
   "outputs": [],
   "source": [
    "# Nicely formatted time string\n",
    "def hms_string(sec_elapsed):\n",
    "    h = int(sec_elapsed / (60 * 60))\n",
    "    m = int((sec_elapsed % (60 * 60)) / 60)\n",
    "    s = sec_elapsed % 60\n",
    "    return \"{}:{:>02}:{:>05.2f}\".format(h, m, s)"
   ]
  },
  {
   "cell_type": "code",
   "execution_count": null,
   "metadata": {
    "scrolled": true
   },
   "outputs": [],
   "source": [
    "# Initialize csv Header\n",
    "start_time = time.time()\n",
    "with codecs.open(pathPosts_CODE_TAGS, \"w\", ENCODING) as PostsFH:\n",
    "    postsWriter = csv.writer(PostsFH, quoting=csv.QUOTE_MINIMAL)\n",
    "    postsWriter.writerow(['id', 'Codes', 'Tags'])\n",
    "    for event, elem in ET.iterparse(\"E:\\stackoverflow.com-Posts\\posts.xml\", events=(\"start\",\"end\")):\n",
    "        if elem.tag == \"row\" and event == \"end\":\n",
    "            totalPostCount+=1\n",
    "            #Get post Id \n",
    "            postId = elem.attrib['Id']\n",
    "            #Parse Body \n",
    "            codeSoup = BeautifulSoup(elem.attrib['Body'])\n",
    "            #Get Code Elements\n",
    "            codeElements = codeSoup.find_all(\"code\")\n",
    "            CodeCount += len(codeElements)\n",
    "            codeString = \" \".join(str(x) for x in codeElements)\n",
    "            #Get Tags\n",
    "            tagString = \"\"\n",
    "            if 'Tags' in elem.attrib:\n",
    "                tagsList = re.findall(r\"<(.*?)>\", elem.attrib['Tags'])\n",
    "                TagsCount += len(tagsList)\n",
    "                tagString =  \", \".join(tag for tag in tagsList)\n",
    "            postsWriter.writerow([postId, codeString, tagString])\n",
    "            if totalPostCount > 1 and (totalPostCount % 100000) == 0:\n",
    "                print(\"{:,}\".format(totalPostCount))\n",
    "            elem.clear()"
   ]
  },
  {
   "cell_type": "code",
   "execution_count": 7,
   "metadata": {},
   "outputs": [
    {
     "name": "stdout",
     "output_type": "stream",
     "text": [
      "Total Posts: 45,919,817\n",
      "Code Snippets: 109,734,471\n",
      "Tags: 109,734,471\n"
     ]
    }
   ],
   "source": [
    "elapsed_time = time.time() - start_time\n",
    "\n",
    "print(\"Total Posts: {:,}\".format(totalPostCount))\n",
    "print(\"Code Snippets: {:,}\".format(CodeCount))\n",
    "print(\"Tags: {:,}\".format(TagsCount))"
   ]
  },
  {
   "cell_type": "code",
   "execution_count": 11,
   "metadata": {},
   "outputs": [],
   "source": [
    "    \"\"\"\n",
    "    Splits a CSV file into multiple pieces.\n",
    "    \n",
    "    A quick bastardization of the Python CSV library.\n",
    "    Arguments:\n",
    "        `row_limit`: The number of rows you want in each output file. 10,000 by default.\n",
    "        `output_name_template`: A %s-style template for the numbered output files.\n",
    "        `output_path`: Where to stick the output files.\n",
    "        `keep_headers`: Whether or not to print the headers in each output file.\n",
    "    Example usage:\n",
    "    \n",
    "        >> from toolbox import csv_splitter;\n",
    "        >> csv_splitter.split(open('/home/ben/input.csv', 'r'));\n",
    "    \n",
    "    \"\"\"\n",
    "def split(filehandler, delimiter=',', row_limit=10000,\n",
    "          output_name_template='output_%s.csv', output_path='.', keep_headers=True):\n",
    "        reader = csv.reader(filehandler, delimiter=delimiter)\n",
    "        current_piece = 1\n",
    "        current_out_path = os.path.join(output_path,output_name_template  % current_piece)\n",
    "        current_out_writer = csv.writer(open(current_out_path, 'w'), delimiter=delimiter)\n",
    "        current_limit = row_limit\n",
    "        if keep_headers:\n",
    "            headers = reader.next()\n",
    "            current_out_writer.writerow(headers)\n",
    "        for i, row in enumerate(reader):\n",
    "            if i + 1 > current_limit:\n",
    "                current_piece += 1\n",
    "                current_limit = row_limit * current_piece\n",
    "                current_out_path = os.path.join(output_path,output_name_template  % current_piece)\n",
    "                current_out_writer = csv.writer(open(current_out_path, 'w'), delimiter=delimiter)\n",
    "            if keep_headers:\n",
    "                current_out_writer.writerow(headers)\n",
    "        current_out_writer.writerow(row)"
   ]
  },
  {
   "cell_type": "code",
   "execution_count": null,
   "metadata": {},
   "outputs": [],
   "source": []
  }
 ],
 "metadata": {
  "kernelspec": {
   "display_name": "Python 3",
   "language": "python",
   "name": "python3"
  },
  "language_info": {
   "codemirror_mode": {
    "name": "ipython",
    "version": 3
   },
   "file_extension": ".py",
   "mimetype": "text/x-python",
   "name": "python",
   "nbconvert_exporter": "python",
   "pygments_lexer": "ipython3",
   "version": "3.7.0"
  }
 },
 "nbformat": 4,
 "nbformat_minor": 2
}
